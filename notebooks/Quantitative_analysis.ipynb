{
 "cells": [
  {
   "cell_type": "code",
   "execution_count": 1,
   "id": "af6ddc3e",
   "metadata": {},
   "outputs": [],
   "source": [
    "import pynance as pn\n",
    "import yfinance as yf\n",
    "import pandas as pd\n"
   ]
  },
  {
   "cell_type": "code",
   "execution_count": 3,
   "id": "4caecda9",
   "metadata": {},
   "outputs": [],
   "source": [
    "appl = pd.read_csv('../data/yfinance_data/AAPL_historical_data.csv')\n",
    "amz = pd.read_csv('../data/yfinance_data/AMZN_historical_data.csv')\n",
    "goog = pd.read_csv('../data/yfinance_data/GOOG_historical_data.csv')\n",
    "meta = pd.read_csv('../data/yfinance_data/META_historical_data.csv')\n",
    "msft = pd.read_csv('../data/yfinance_data/MSFT_historical_data.csv')\n",
    "nvda = pd.read_csv('../data/yfinance_data/NVDA_historical_data.csv')\n",
    "tesla = pd.read_csv('../data/yfinance_data/TSLA_historical_data.csv')\n"
   ]
  },
  {
   "cell_type": "code",
   "execution_count": null,
   "id": "62623a7f",
   "metadata": {},
   "outputs": [],
   "source": []
  }
 ],
 "metadata": {
  "kernelspec": {
   "display_name": "week-1",
   "language": "python",
   "name": "python3"
  },
  "language_info": {
   "codemirror_mode": {
    "name": "ipython",
    "version": 3
   },
   "file_extension": ".py",
   "mimetype": "text/x-python",
   "name": "python",
   "nbconvert_exporter": "python",
   "pygments_lexer": "ipython3",
   "version": "3.11.9"
  }
 },
 "nbformat": 4,
 "nbformat_minor": 5
}
